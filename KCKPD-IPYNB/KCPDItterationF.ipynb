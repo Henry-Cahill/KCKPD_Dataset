{
 "cells": [
  {
   "cell_type": "code",
   "execution_count": 1,
   "id": "a73b7759-4e2d-4573-a3bb-4dcf914118a7",
   "metadata": {
    "execution": {
     "iopub.execute_input": "2024-07-22T14:59:02.671394Z",
     "iopub.status.busy": "2024-07-22T14:59:02.669394Z",
     "iopub.status.idle": "2024-07-22T14:59:03.284017Z",
     "shell.execute_reply": "2024-07-22T14:59:03.283005Z",
     "shell.execute_reply.started": "2024-07-22T14:59:02.671394Z"
    }
   },
   "outputs": [],
   "source": [
    "import pandas as pd\n",
    "import numpy as np"
   ]
  },
  {
   "cell_type": "code",
   "execution_count": 3,
   "id": "fdb4255d-723b-4f8a-a18b-295f102ee34b",
   "metadata": {
    "execution": {
     "iopub.execute_input": "2024-07-22T14:59:30.615897Z",
     "iopub.status.busy": "2024-07-22T14:59:30.614896Z",
     "iopub.status.idle": "2024-07-22T14:59:31.042596Z",
     "shell.execute_reply": "2024-07-22T14:59:31.040573Z",
     "shell.execute_reply.started": "2024-07-22T14:59:30.615897Z"
    }
   },
   "outputs": [],
   "source": [
    "df = pd.read_excel(\"C://Users//hlcma//OneDrive//Desktop//KCKPD//KCKPD-STATS//KCKPD-STATS_V2.xlsx\")"
   ]
  },
  {
   "cell_type": "code",
   "execution_count": 4,
   "id": "1f1f4b79-4a05-4205-b67d-7cda28687cb7",
   "metadata": {
    "execution": {
     "iopub.execute_input": "2024-07-22T14:59:32.581407Z",
     "iopub.status.busy": "2024-07-22T14:59:32.580406Z",
     "iopub.status.idle": "2024-07-22T14:59:32.586829Z",
     "shell.execute_reply": "2024-07-22T14:59:32.586829Z",
     "shell.execute_reply.started": "2024-07-22T14:59:32.581407Z"
    }
   },
   "outputs": [
    {
     "name": "stdout",
     "output_type": "stream",
     "text": [
      "['Unnamed: 0', 'homicide', 'rape', 'agg battery', 'agg assault', 'shooting into dwell/auto', 'shooting-occ dwell', 'shooting-occ auto', 'shooting-unocc dwell', 'robbery', 'agg robbery', 'robbery.1', 'total violent', 'burglary', 'burglary-aggravated', 'burglary-res', 'burglary-nonres', 'burglary-auto', 'theft', 'total property', 'total target crimes', 'abduction', 'agg arson', 'agg ind solicitation', 'agg indec liberties', 'agg sexual battery', 'agg sodomy', 'assault', 'battery', 'child abuse', 'criminal restraint', 'criminal threat', 'domestic battery', 'indecent liberties', 'indecent solicitation', 'interf parental cust', 'sex exploit of child', 'sexual battery', 'sodomy', 'stalking', 'telecomm harrasment', 'total other persons', 'arson', 'criminal damage', 'forgery', 'fraud', 'graffiti', 'poss stolen property', 'total other property', 'drug offense', 'weapons offense', 'total society', 'other', 'total non-target crimes', 'total crimes', 'runaway', 'missing person', 'homicide.1', 'rape.1', 'agg battery.1', 'agg assault.1', 'shooting into dwell/auto.1', 'shooting-occ dwell.1', 'shooting-occ auto.1', 'shooting-unocc dwell.1', 'robbery.2', 'agg robbery.1', 'robbery.3', 'total violent.1', 'burglary.1', 'burglary-aggravated.1', 'burglary-res.1', 'burglary-nonres.1', 'burglary-auto.1', 'theft.1', 'total property.1', 'total target crimes.1', 'abduction.1', 'agg arson.1', 'agg ind solicitation.1', 'agg indec liberties.1', 'agg sexual battery.1', 'agg sodomy.1', 'assault.1', 'battery.1', 'child abuse.1', 'criminal restraint.1', 'criminal threat.1', 'domestic battery.1', 'indecent liberties.1', 'indecent solicitation.1', 'interf parental cust.1', 'sex exploit of child.1', 'sexual battery.1', 'sodomy.1', 'stalking.1', 'telecomm harrasment.1', 'total other persons.1', 'arson.1', 'criminal damage.1', 'forgery.1', 'fraud.1', 'graffiti.1', 'poss stolen property.1', 'total other property.1', 'drug offense.1', 'weapons offense.1', 'total society.1', 'other.1', 'total non-target crimes.1', 'total crimes.1', 'runaway.1', 'missing person.1', 'date_year']\n"
     ]
    }
   ],
   "source": [
    "print(df.columns.tolist())"
   ]
  },
  {
   "cell_type": "code",
   "execution_count": 5,
   "id": "e1922d5c-bedc-445c-b188-123eef994806",
   "metadata": {
    "execution": {
     "iopub.execute_input": "2024-07-22T14:59:33.751950Z",
     "iopub.status.busy": "2024-07-22T14:59:33.751950Z",
     "iopub.status.idle": "2024-07-22T14:59:33.829363Z",
     "shell.execute_reply": "2024-07-22T14:59:33.828340Z",
     "shell.execute_reply.started": "2024-07-22T14:59:33.751950Z"
    }
   },
   "outputs": [
    {
     "name": "stdout",
     "output_type": "stream",
     "text": [
      "['Unnamed: 0', 'homicide', 'rape', 'agg battery', 'agg assault', 'shooting into dwell/auto', 'shooting-occ dwell', 'shooting-occ auto', 'shooting-unocc dwell', 'robbery', 'agg robbery', 'robbery.1', 'total violent', 'burglary', 'burglary-aggravated', 'burglary-res', 'burglary-nonres', 'burglary-auto', 'theft', 'total property', 'total target crimes', 'abduction', 'agg arson', 'agg ind solicitation', 'agg indec liberties', 'agg sexual battery', 'agg sodomy', 'assault', 'battery', 'child abuse', 'criminal restraint', 'criminal threat', 'domestic battery', 'indecent liberties', 'indecent solicitation', 'interf parental cust', 'sex exploit of child', 'sexual battery', 'sodomy', 'stalking', 'telecomm harrasment', 'total other persons', 'arson', 'criminal damage', 'forgery', 'fraud', 'graffiti', 'poss stolen property', 'total other property', 'drug offense', 'weapons offense', 'total society', 'other', 'total non-target crimes', 'total crimes', 'runaway', 'missing person', 'robbery.3', 'stalking.1', 'telecomm harrasment.1', 'total other persons.1', 'arson.1', 'criminal damage.1', 'forgery.1', 'fraud.1', 'graffiti.1', 'poss stolen property.1', 'total other property.1', 'drug offense.1', 'weapons offense.1', 'total society.1', 'other.1', 'total non-target crimes.1', 'total crimes.1', 'runaway.1', 'missing person.1', 'date_year']\n"
     ]
    }
   ],
   "source": [
    "# Combine 'homicide' with 'homicide.1' \n",
    "df['homicide'] = df['homicide'] + df['homicide.1']\n",
    "# dropping 'homicide.1' \n",
    "df = df.drop(columns='homicide.1')\n",
    "# Combine 'rape' with 'rape.1'\n",
    "df['rape'] = df['rape'] + df['rape.1']\n",
    "# dropping 'rape.1'\n",
    "df = df.drop(columns='rape.1')\n",
    "# Combine 'agg batterty' with 'agg battery.1'\n",
    "df['agg battery'] = df['agg battery'] + df['agg battery.1']\n",
    "# dropping 'agg battery.1'\n",
    "df = df.drop(columns='agg battery.1')\n",
    "# Combine 'agg assault' with 'agg assault.1'\n",
    "df['agg assault'] = df['agg assault'] + df['agg assault.1']\n",
    "# # dropping 'agg battery.1'\n",
    "df = df.drop(columns='agg assault.1')\n",
    "# Combine 'shooting into dwell/auto' with 'shooting into dwell/auto.1'\n",
    "df['shooting into dwell/auto'] = df['shooting into dwell/auto'] + df['shooting into dwell/auto.1']\n",
    "# dropping 'shooting into dwell/auto.1'\n",
    "df = df.drop(columns='shooting into dwell/auto.1')\n",
    "# Combine 'shooting-occ dwell' with 'shooting-occ dwell.1'\n",
    "df['shooting-occ dwell'] = df['shooting-occ dwell'] + df['shooting-occ dwell.1']\n",
    "# dropping 'shooting-occ dwell.1'\n",
    "df = df.drop(columns='shooting-occ dwell.1')\n",
    "# Combine 'shooting-occ auto' with 'shooting-occ auto.1'\n",
    "df['shooting-occ auto'] = df['shooting-occ auto'] + df['shooting-occ auto.1']\n",
    "# Dropping 'shooting-occ auto.1'\n",
    "df = df.drop(columns='shooting-occ auto.1')\n",
    "# Combine 'shooting-unocc dwell'\n",
    "df['shooting-unocc dwell'] = df['shooting-unocc dwell'] + df['shooting-unocc dwell.1']\n",
    "# dropping 'shooting-unocc dwell.1'\n",
    "df = df.drop(columns='shooting-unocc dwell.1')\n",
    "# Combine 'robbery.2' with 'robbery'\n",
    "df['robbery'] = df['robbery'] + df['robbery.2']\n",
    "# dropping 'robbery.2'\n",
    "df = df.drop(columns='robbery.2')\n",
    "# Combine 'agg robbery.1' with 'agg robbery'\n",
    "df['agg robbery'] = df['agg robbery'] + df['agg robbery.1']\n",
    "# dropping 'agg robbery.1'\n",
    "df = df.drop(columns='agg robbery.1')\n",
    "\n",
    "# Combine 'robbery.1' with 'robbery.3'\n",
    "###df['robbery.1'] = df['robbery.1'].astype(float) + df['robbery.3'].astype(float)\n",
    "# dropping 'robbery.3'\n",
    "###df = df.drop(columns='robbery.3')\n",
    "# Combine 'total violent' with 'total violent.1'\n",
    "\n",
    "df['total violent'] = df['total violent'].astype(str) + df['total violent.1']\n",
    "# dropping 'total violent.1'\n",
    "df = df.drop(columns='total violent.1')\n",
    "# combine 'burglary' with 'burglary.1'\n",
    "df['burglary'] = df['burglary'] + df['burglary.1']\n",
    "# dropping 'burglary.1'\n",
    "df = df.drop(columns='burglary.1')\n",
    "# combine 'burglary-aggravated' with 'burglary-aggravated.1'\n",
    "df['burglary-aggravated'] = df['burglary-aggravated'] + df['burglary-aggravated.1']\n",
    "# dropping 'burglary-aggravated.1'\n",
    "df = df.drop(columns='burglary-aggravated.1')\n",
    "# combine 'burglary-res' with 'burglary-res.1'\n",
    "df['burglary-res'] = df['burglary-res'] + df['burglary-res.1']\n",
    "# dropping 'burglary-res.1'\n",
    "df = df.drop(columns='burglary-res.1')\n",
    "# combine 'burglary-nonres' with burglary-nonres.1\n",
    "df['burglary-nonres'] = df['burglary-nonres'] + df['burglary-nonres.1']\n",
    "# dropping 'burglary-nonres'\n",
    "df = df.drop(columns='burglary-nonres.1')\n",
    "# combine 'burglary-auto' with 'burglary-auto.1'\n",
    "df['burglary-auto'] = df['burglary-auto'] + df['burglary-auto.1']\n",
    "# dropping 'burglary-auto.1'\n",
    "df = df.drop(columns='burglary-auto.1')\n",
    "# combine 'theft' with 'theft.1'\n",
    "df['theft'] = df['theft'] + df['theft.1']\n",
    "# dropping 'theft.1'\n",
    "df = df.drop(columns='theft.1')\n",
    "# combine 'total property' with 'total property.1'\n",
    "df['total property'] = df['total property'].astype(str) + df['total property.1']\n",
    "# dropping 'total property'\n",
    "df = df.drop(columns='total property.1')\n",
    "# combine 'total target crimes' with total target crimes.1\n",
    "df['total target crimes'] = df['total target crimes'].astype(str) + df['total target crimes.1']\n",
    "# dropping 'total target crimes.1'\n",
    "df = df.drop(columns='total target crimes.1')\n",
    "# combine 'abduction' with 'abduction.1'\n",
    "df['abduction'] = df['abduction'] + df['abduction.1']\n",
    "# dropping 'abduction.1'\n",
    "df = df.drop(columns='abduction.1')\n",
    "## combine 'agg arson' with 'agg arson.1'\n",
    "df['agg arson'] = df['agg arson'] + df['agg arson.1']\n",
    "# dropping 'agg arson.1'\n",
    "df = df.drop(columns='agg arson.1')\n",
    "# Combine 'agg ind solicitation' and 'agg ind solicitation.1'\n",
    "df['agg ind solicitation']  = df['agg ind solicitation'] + df['agg ind solicitation.1']\n",
    "# dropping 'agg ind solicitation.1'\n",
    "df = df.drop(columns='agg ind solicitation.1')\n",
    "# Combine 'agg indec liberties' with 'agg indec liberties.1'\n",
    "df['agg indec liberties'] = df['agg indec liberties'] + df['agg indec liberties.1']\n",
    "# dropping column 'agg indec liberties' \n",
    "df = df.drop(columns='agg indec liberties.1')\n",
    "# Combine 'agg sexual battery' and 'agg sexual battery.1'\n",
    "df['agg sexual battery'] = df['agg sexual battery'] + df['agg sexual battery.1']\n",
    "# dropping 'agg sexual battery'\n",
    "df = df.drop(columns='agg sexual battery.1')\n",
    "# Combine 'agg sodomy' with 'agg sodomy.1'\n",
    "df['agg sodomy'] = df['agg sodomy'] + df['agg sodomy.1']\n",
    "# drop 'agg sodomy.1'\n",
    "df = df.drop(columns='agg sodomy.1')\n",
    "# Combine 'assault' and 'assault.1'\n",
    "df['assault'] = df['assault'] + df['assault.1']\n",
    "# drop 'assault.1'\n",
    "df = df.drop(columns='assault.1')\n",
    "# # combine 'battery' with 'battery.1'\n",
    "df['battery'] = df['battery'] + df['battery.1']\n",
    "# drop 'battery.1'\n",
    "df = df.drop(columns='battery.1')\n",
    "# combine 'child abuse' with 'child abuse.1'\n",
    "df['child abuse'] = df['child abuse'] + df['child abuse.1']\n",
    "# drop child abuse.1\n",
    "df = df.drop(columns='child abuse.1')\n",
    "# combine 'criminal restraint' with 'criminal restraint.1'\n",
    "df['criminal restraint'] = df['criminal restraint'] + df['criminal restraint.1']\n",
    "# drop 'criminal restraint'\n",
    "df = df.drop(columns='criminal restraint.1')\n",
    "# combine 'criminal threat' and 'criminal threat.1'\n",
    "df['criminal threat'] = df['criminal threat'] + df['criminal threat.1']\n",
    "# drop 'criminal threat'\n",
    "df = df.drop(columns='criminal threat.1')\n",
    "# Combine 'domestic battery' with domestic batter.1\n",
    "df['domestic battery'] = df['domestic battery'] + df['domestic battery.1']\n",
    "# drop 'domestic battery'\n",
    "df = df.drop(columns='domestic battery.1')\n",
    "# Combine 'indecent liberties' with 'indecent liberties.1'\n",
    "df['indecent liberties'] = df['indecent liberties'] + df['indecent liberties.1']\n",
    "# drop 'indecent liberties.1' \n",
    "df = df.drop(columns='indecent liberties.1')\n",
    "# Combine 'indecent solicitation' with 'indecent solicitation.1'\n",
    "df['indecent solicitation'] = df['indecent solicitation'] + df['indecent solicitation.1']\n",
    "# drop 'indecent solicitation.1'\n",
    "df = df.drop(columns='indecent solicitation.1')\n",
    "# combine 'interf parental cust' with 'interf parental cust.1'\n",
    "df['interf parental cust'] = df['interf parental cust'] + df['interf parental cust.1']\n",
    "# drop 'interf parental cust.1'\n",
    "df = df.drop(columns='interf parental cust.1')\n",
    "# combine 'sex exploit of child' with 'sex exploit of child.1'\n",
    "df['sex exploit of child'] = df['sex exploit of child'] + df['sex exploit of child.1']\n",
    "# drop 'sex exploit of child.1'\n",
    "df = df.drop(columns='sex exploit of child.1')\n",
    "# combine sexual battery with sexual battery.1\n",
    "df['sexual battery'] = df['sexual battery'] + df['sexual battery.1']\n",
    "# drop 'sexual battery.1'\n",
    "df = df.drop(columns='sexual battery.1')\n",
    "# combine 'sodomy' with 'sodomy.1'\n",
    "df['sodomy'] = df['sodomy'] + df['sodomy.1']\n",
    "# drop sodomy.1\n",
    "df = df.drop(columns='sodomy.1')\n",
    "\n",
    "print(df.columns.tolist())"
   ]
  }
 ],
 "metadata": {
  "kernelspec": {
   "display_name": "Python 3 (ipykernel)",
   "language": "python",
   "name": "python3"
  },
  "language_info": {
   "codemirror_mode": {
    "name": "ipython",
    "version": 3
   },
   "file_extension": ".py",
   "mimetype": "text/x-python",
   "name": "python",
   "nbconvert_exporter": "python",
   "pygments_lexer": "ipython3",
   "version": "3.12.4"
  }
 },
 "nbformat": 4,
 "nbformat_minor": 5
}
